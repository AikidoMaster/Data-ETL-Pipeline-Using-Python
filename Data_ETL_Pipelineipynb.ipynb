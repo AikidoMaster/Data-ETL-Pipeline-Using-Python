{
  "nbformat": 4,
  "nbformat_minor": 0,
  "metadata": {
    "colab": {
      "provenance": []
    },
    "kernelspec": {
      "name": "python3",
      "display_name": "Python 3"
    },
    "language_info": {
      "name": "python"
    }
  },
  "cells": [
    {
      "cell_type": "markdown",
      "source": [
        "## **Data ETL Pipeline using Python**"
      ],
      "metadata": {
        "id": "VcOx-cSCGxhu"
      }
    },
    {
      "cell_type": "markdown",
      "source": [
        "Import Libraries"
      ],
      "metadata": {
        "id": "fhFKiSVWG4oW"
      }
    },
    {
      "cell_type": "code",
      "execution_count": 1,
      "metadata": {
        "id": "yZS9YyCcGuoD"
      },
      "outputs": [],
      "source": [
        "import tensorflow.keras as keras\n",
        "import numpy as np\n",
        "import sqlite3\n",
        "import pandas as pd\n"
      ]
    },
    {
      "cell_type": "markdown",
      "source": [
        "Transform Data"
      ],
      "metadata": {
        "id": "uX_7LfDHHFF5"
      }
    },
    {
      "cell_type": "code",
      "source": [
        "(xtrain, ytrain), (xtest, ytest) = keras.datasets.fashion_mnist.load_data()\n",
        "\n",
        "print(\"Training data shape:\", xtrain.shape)\n",
        "print(\"Training labels shape:\", ytrain.shape)\n",
        "print(\"Test data shape:\", xtest.shape)\n",
        "print(\"Test labels shape:\", ytest.shape)\n"
      ],
      "metadata": {
        "colab": {
          "base_uri": "https://localhost:8080/"
        },
        "id": "lpXbkbg4HCCq",
        "outputId": "bec3a067-0a21-4bf3-a77b-e166a8e026e1"
      },
      "execution_count": 2,
      "outputs": [
        {
          "output_type": "stream",
          "name": "stdout",
          "text": [
            "Downloading data from https://storage.googleapis.com/tensorflow/tf-keras-datasets/train-labels-idx1-ubyte.gz\n",
            "\u001b[1m29515/29515\u001b[0m \u001b[32m━━━━━━━━━━━━━━━━━━━━\u001b[0m\u001b[37m\u001b[0m \u001b[1m0s\u001b[0m 0us/step\n",
            "Downloading data from https://storage.googleapis.com/tensorflow/tf-keras-datasets/train-images-idx3-ubyte.gz\n",
            "\u001b[1m26421880/26421880\u001b[0m \u001b[32m━━━━━━━━━━━━━━━━━━━━\u001b[0m\u001b[37m\u001b[0m \u001b[1m1s\u001b[0m 0us/step\n",
            "Downloading data from https://storage.googleapis.com/tensorflow/tf-keras-datasets/t10k-labels-idx1-ubyte.gz\n",
            "\u001b[1m5148/5148\u001b[0m \u001b[32m━━━━━━━━━━━━━━━━━━━━\u001b[0m\u001b[37m\u001b[0m \u001b[1m0s\u001b[0m 0us/step\n",
            "Downloading data from https://storage.googleapis.com/tensorflow/tf-keras-datasets/t10k-images-idx3-ubyte.gz\n",
            "\u001b[1m4422102/4422102\u001b[0m \u001b[32m━━━━━━━━━━━━━━━━━━━━\u001b[0m\u001b[37m\u001b[0m \u001b[1m1s\u001b[0m 0us/step\n",
            "Training data shape: (60000, 28, 28)\n",
            "Training labels shape: (60000,)\n",
            "Test data shape: (10000, 28, 28)\n",
            "Test labels shape: (10000,)\n"
          ]
        }
      ]
    },
    {
      "cell_type": "markdown",
      "source": [
        "Load Data into SQLite Database"
      ],
      "metadata": {
        "id": "StFB66LDHKrB"
      }
    },
    {
      "cell_type": "code",
      "source": [
        "conn = sqlite3.connect('fashion_mnist.db')\n",
        "\n",
        "conn.execute('''\n",
        "CREATE TABLE IF NOT EXISTS images\n",
        "(id INTEGER PRIMARY KEY AUTOINCREMENT,\n",
        "image BLOB NOT NULL,\n",
        "label INTEGER NOT NULL);\n",
        "''')\n",
        "\n",
        "for i in range(xtrain.shape[0]):\n",
        "    conn.execute('INSERT INTO images (image, label) VALUES (?, ?)',\n",
        "                [sqlite3.Binary(xtrain[i].tobytes()), ytrain[i]])\n",
        "\n",
        "conn.commit()\n",
        "\n",
        "for i in range(xtest.shape[0]):\n",
        "    conn.execute('INSERT INTO images (image, label) VALUES (?, ?)',\n",
        "                [sqlite3.Binary(xtest[i].tobytes()), ytest[i]])\n",
        "\n",
        "conn.commit()\n",
        "conn.close()\n"
      ],
      "metadata": {
        "id": "SrWitun7HOs_"
      },
      "execution_count": 3,
      "outputs": []
    },
    {
      "cell_type": "markdown",
      "source": [
        "Read Data from SQLite Database\n"
      ],
      "metadata": {
        "id": "deMk09usHRdf"
      }
    },
    {
      "cell_type": "code",
      "source": [
        "conn = sqlite3.connect('fashion_mnist.db')\n",
        "cursor = conn.cursor()\n",
        "\n",
        "cursor.execute('SELECT * FROM images')\n",
        "rows = cursor.fetchall()\n",
        "\n",
        "data = pd.read_sql_query('SELECT * FROM images', conn)\n",
        "conn.close()\n",
        "\n",
        "print(\"Data loaded from database:\")\n",
        "print(data.head())\n"
      ],
      "metadata": {
        "colab": {
          "base_uri": "https://localhost:8080/"
        },
        "id": "i0583vWjHUzt",
        "outputId": "8bd94be2-1664-4b0c-e98d-eaf32da6efc5"
      },
      "execution_count": 4,
      "outputs": [
        {
          "output_type": "stream",
          "name": "stdout",
          "text": [
            "Data loaded from database:\n",
            "   id                                              image    label\n",
            "0   1  b'\\x00\\x00\\x00\\x00\\x00\\x00\\x00\\x00\\x00\\x00\\x00...    b'\\t'\n",
            "1   2  b'\\x00\\x00\\x00\\x00\\x00\\x01\\x00\\x00\\x00\\x00)\\xb...  b'\\x00'\n",
            "2   3  b'\\x00\\x00\\x00\\x00\\x00\\x00\\x00\\x00\\x00\\x16v\\x1...  b'\\x00'\n",
            "3   4  b\"\\x00\\x00\\x00\\x00\\x00\\x00\\x00\\x00!`\\xaf\\x9c@\\...  b'\\x03'\n",
            "4   5  b'\\x00\\x00\\x00\\x00\\x00\\x00\\x00\\x00\\x00\\x00\\x00...  b'\\x00'\n"
          ]
        }
      ]
    }
  ]
}